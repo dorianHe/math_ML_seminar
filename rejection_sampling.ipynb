{
 "cells": [
  {
   "cell_type": "code",
   "execution_count": 1,
   "metadata": {
    "ExecuteTime": {
     "end_time": "2018-11-10T20:45:02.702643Z",
     "start_time": "2018-11-10T20:45:01.789691Z"
    }
   },
   "outputs": [],
   "source": [
    "import numpy as np\n",
    "from scipy.stats import norm\n",
    "import scipy.integrate as integrate\n",
    "import matplotlib.pyplot as plt"
   ]
  },
  {
   "cell_type": "code",
   "execution_count": 2,
   "metadata": {
    "ExecuteTime": {
     "end_time": "2018-11-10T20:45:02.710743Z",
     "start_time": "2018-11-10T20:45:02.704828Z"
    }
   },
   "outputs": [],
   "source": [
    "% matplotlib inline"
   ]
  },
  {
   "cell_type": "code",
   "execution_count": 3,
   "metadata": {
    "ExecuteTime": {
     "end_time": "2018-11-10T20:45:02.758287Z",
     "start_time": "2018-11-10T20:45:02.712825Z"
    }
   },
   "outputs": [],
   "source": [
    "class rejection_sampling:\n",
    "    def __init__(self, propose_mean, propose_var, mean_one, mean_two, var_one, var_two, mix_one, mix_two):\n",
    "        # parameters of propose distribution\n",
    "        self.propose_mean = propose_mean\n",
    "        self.propose_var = propose_var\n",
    "        # parameters of target distribution\n",
    "        self.mean_one = mean_one\n",
    "        self.var_one = var_one\n",
    "        self.mean_two = mean_two\n",
    "        self.var_two = var_two\n",
    "        self.mix_one = mix_one\n",
    "        self.mix_two = mix_two\n",
    "        # result samples\n",
    "        self.sample_lst = []\n",
    "        \n",
    "    def check_tilde_p(self, Z, k, x_axis):\n",
    "        # parameters of tilde distribution\n",
    "        self.Z = Z\n",
    "        # parameters of envolope\n",
    "        self.k = k\n",
    "        # example of propose distribution\n",
    "        propose_distribution = norm.pdf(x_axis, self.propose_mean, self.propose_var)\n",
    "        envolope_distribution = self.k* propose_distribution\n",
    "        gaussian_one = norm.pdf(x_axis, self.mean_one, self.var_one)\n",
    "        gaussian_two = norm.pdf(x_axis, self.mean_two, self.var_two)\n",
    "        target_distribution = mix_one* gaussian_one + mix_two* gaussian_two\n",
    "        given_distribution = Z* target_distribution\n",
    "        \n",
    "        plt.figure(figsize=(8,8))\n",
    "        plt.plot(x_axis, propose_distribution, \"--\", label = \"propose distribution q\", c = \"blue\")\n",
    "        plt.plot(x_axis, target_distribution, \"--\", label = \"target distribution p\", c = \"orange\")\n",
    "        plt.plot(x_axis, given_distribution, label = \"given distribution p_tilde\", c = \"orange\")\n",
    "        plt.plot(x_axis, envolope_distribution, label = \"envolope distribution k*q\", c = \"blue\")\n",
    "        plt.xlabel(\"x\")\n",
    "        plt.ylabel(\"prob density\")\n",
    "        plt.legend()\n",
    "        \n",
    "        # make srue k*q >= f_tilde for all x\n",
    "        assert(sum(envolope_distribution < given_distribution) == 0)\n",
    "        \n",
    "    def fit(self, num_samples):\n",
    "        while (len(self.sample_lst) < num_samples):\n",
    "            # generate a sample from propose distribution (assumed to be gaussian)\n",
    "            sample_x = np.random.normal(loc= propose_mean, scale= propose_var, size= 1)\n",
    "            # obtain the value of k*p(x)\n",
    "            envolope_prob_density = self.k* norm.pdf(sample_x, self.propose_mean, self.propose_var)\n",
    "            # sample from Uniform distribution of [0, k*p(x)]\n",
    "            sample_u = np.random.uniform(low= 0, high= envolope_prob_density)\n",
    "            # rejection-accecptance\n",
    "            tilde_prob_density= self.Z* (self.mix_one* norm.pdf(sample_x, self.mean_one, self.var_one)\n",
    "                                     + self.mix_two* norm.pdf(sample_x, self.mean_two, self.var_two))\n",
    "            if sample_u <= tilde_prob_density:\n",
    "                # accept\n",
    "                self.sample_lst += [sample_x[0]]\n",
    "        sample_array = np.array(self.sample_lst)\n",
    "        return sample_array"
   ]
  },
  {
   "cell_type": "code",
   "execution_count": 4,
   "metadata": {
    "ExecuteTime": {
     "end_time": "2018-11-10T20:45:02.765822Z",
     "start_time": "2018-11-10T20:45:02.760077Z"
    },
    "scrolled": true
   },
   "outputs": [],
   "source": [
    "mean_one = -5\n",
    "var_one = 0.5\n",
    "mean_two = 3\n",
    "var_two = 0.5\n",
    "\n",
    "mix_one = 0.5\n",
    "mix_two = 1 - mix_one\n",
    "\n",
    "propose_mean = 0\n",
    "propose_var = 3.5\n",
    "\n",
    "rj_sample = rejection_sampling(propose_mean, propose_var, mean_one, mean_two, var_one, var_two, mix_one, mix_two)"
   ]
  },
  {
   "cell_type": "code",
   "execution_count": 5,
   "metadata": {
    "ExecuteTime": {
     "end_time": "2018-11-10T20:45:03.322975Z",
     "start_time": "2018-11-10T20:45:02.966782Z"
    },
    "scrolled": false
   },
   "outputs": [
    {
     "data": {
      "image/png": "[encoded data removed]",
      "text/plain": [
       "<matplotlib.figure.Figure at 0x11457a890>"
      ]
     },
     "metadata": {},
     "output_type": "display_data"
    }
   ],
   "source": [
    "x_axis = np.linspace(-15, 15, 200)\n",
    "rj_sample.check_tilde_p(k= 20, Z= 2, x_axis= x_axis)"
   ]
  },
  {
   "cell_type": "code",
   "execution_count": 6,
   "metadata": {
    "ExecuteTime": {
     "end_time": "2018-11-10T20:45:05.949892Z",
     "start_time": "2018-11-10T20:45:03.391093Z"
    }
   },
   "outputs": [],
   "source": [
    "num_samples = 1000\n",
    "sample_result = rj_sample.fit(num_samples)"
   ]
  },
  {
   "cell_type": "code",
   "execution_count": 7,
   "metadata": {
    "ExecuteTime": {
     "end_time": "2018-11-10T20:45:06.163515Z",
     "start_time": "2018-11-10T20:45:05.951975Z"
    },
    "scrolled": true
   },
   "outputs": [
    {
     "data": {
      "text/plain": [
       "<matplotlib.collections.PathCollection at 0x1147ef290>"
      ]
     },
     "execution_count": 7,
     "metadata": {},
     "output_type": "execute_result"
    },
    {
     "data": {
      "image/png": "[encoded data removed]",
      "text/plain": [
       "<matplotlib.figure.Figure at 0x1147c6550>"
      ]
     },
     "metadata": {},
     "output_type": "display_data"
    }
   ],
   "source": [
    "plt.figure(figsize= (20,2))\n",
    "plt.xlabel(\"x\")\n",
    "plt.scatter(sample_result, np.zeros(num_samples), s = 4)"
   ]
  },
  {
   "cell_type": "code",
   "execution_count": 8,
   "metadata": {
    "ExecuteTime": {
     "end_time": "2018-11-10T20:45:07.886586Z",
     "start_time": "2018-11-10T20:45:07.661236Z"
    }
   },
   "outputs": [],
   "source": [
    "from sklearn.mixture import GaussianMixture"
   ]
  },
  {
   "cell_type": "code",
   "execution_count": 9,
   "metadata": {
    "ExecuteTime": {
     "end_time": "2018-11-10T20:45:08.000416Z",
     "start_time": "2018-11-10T20:45:07.996761Z"
    }
   },
   "outputs": [],
   "source": [
    "gaussian_mixture = GaussianMixture(n_components= 2)"
   ]
  },
  {
   "cell_type": "code",
   "execution_count": 10,
   "metadata": {
    "ExecuteTime": {
     "end_time": "2018-11-10T20:45:08.343884Z",
     "start_time": "2018-11-10T20:45:08.324714Z"
    },
    "scrolled": true
   },
   "outputs": [
    {
     "data": {
      "text/plain": [
       "GaussianMixture(covariance_type='full', init_params='kmeans', max_iter=100,\n",
       "        means_init=None, n_components=2, n_init=1, precisions_init=None,\n",
       "        random_state=None, reg_covar=1e-06, tol=0.001, verbose=0,\n",
       "        verbose_interval=10, warm_start=False, weights_init=None)"
      ]
     },
     "execution_count": 10,
     "metadata": {},
     "output_type": "execute_result"
    }
   ],
   "source": [
    "gaussian_mixture.fit(sample_result.reshape(-1, 1))"
   ]
  },
  {
   "cell_type": "code",
   "execution_count": 11,
   "metadata": {
    "ExecuteTime": {
     "end_time": "2018-11-10T20:45:09.137925Z",
     "start_time": "2018-11-10T20:45:09.131814Z"
    }
   },
   "outputs": [
    {
     "name": "stdout",
     "output_type": "stream",
     "text": [
      "sampled mean\n",
      "[[-4.99840989]\n",
      " [ 2.99894841]]\n",
      "sampled variance\n",
      "[[[0.25249156]]\n",
      "\n",
      " [[0.24343677]]]\n"
     ]
    }
   ],
   "source": [
    "print \"sampled mean\"\n",
    "print gaussian_mixture.means_\n",
    "print \"sampled variance\"\n",
    "print gaussian_mixture.covariances_"
   ]
  },
  {
   "cell_type": "code",
   "execution_count": null,
   "metadata": {},
   "outputs": [],
   "source": []
  }
 ],
 "metadata": {
  "kernelspec": {
   "display_name": "Python 2",
   "language": "python",
   "name": "python2"
  },
  "language_info": {
   "codemirror_mode": {
    "name": "ipython",
    "version": 2
   },
   "file_extension": ".py",
   "mimetype": "text/x-python",
   "name": "python",
   "nbconvert_exporter": "python",
   "pygments_lexer": "ipython2",
   "version": "2.7.14"
  }
 },
 "nbformat": 4,
 "nbformat_minor": 2
}
